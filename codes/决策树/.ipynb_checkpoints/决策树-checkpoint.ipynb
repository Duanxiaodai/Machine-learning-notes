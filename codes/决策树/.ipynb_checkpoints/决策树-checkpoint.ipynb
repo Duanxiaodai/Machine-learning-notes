{
 "cells": [
  {
   "cell_type": "code",
   "execution_count": 1,
   "metadata": {
    "collapsed": true
   },
   "outputs": [],
   "source": [
    "def createDataSet():\n",
    "    dataSet=[[1,1,'yes'],[1,1,'yes'],[1,0,'no'],[0,1,'no'],[0,1,'no']]\n",
    "    labels=['no surfacing','flippers']\n",
    "    return dataSet,labels"
   ]
  },
  {
   "cell_type": "code",
   "execution_count": 2,
   "metadata": {},
   "outputs": [
    {
     "data": {
      "text/plain": [
       "[[1, 1, 'yes'], [1, 1, 'yes'], [1, 0, 'no'], [0, 1, 'no'], [0, 1, 'no']]"
      ]
     },
     "execution_count": 2,
     "metadata": {},
     "output_type": "execute_result"
    }
   ],
   "source": [
    "myDat,labels = createDataSet()\n",
    "myDat"
   ]
  },
  {
   "cell_type": "code",
   "execution_count": 27,
   "metadata": {},
   "outputs": [],
   "source": [
    "from math import log\n",
    "\n",
    "def calcShannonEnt(dataSet):\n",
    "    numEntries = len(dataSet) #nrows\n",
    "    #为所有的分类类目创建字典\n",
    "    labelCounts ={}\n",
    "    for featVec in dataSet:\n",
    "        currentLable=featVec[-1] #取得最后一列数据\n",
    "        if currentLable not in labelCounts.keys():\n",
    "            labelCounts[currentLable]=0\n",
    "        labelCounts[currentLable]+=1\n",
    "    #计算香农熵\n",
    "    shannonEnt=0.0\n",
    "    for key in labelCounts:\n",
    "        prob = float(labelCounts[key]) / numEntries\n",
    "        shannonEnt -= prob * log(prob, 2)\n",
    "    return shannonEnt"
   ]
  },
  {
   "cell_type": "code",
   "execution_count": 28,
   "metadata": {},
   "outputs": [
    {
     "data": {
      "text/plain": [
       "0.9709505944546686"
      ]
     },
     "execution_count": 28,
     "metadata": {},
     "output_type": "execute_result"
    }
   ],
   "source": [
    "calcShannonEnt(myDat)#利用构造的数据测试calcShannonEnt："
   ]
  },
  {
   "cell_type": "code",
   "execution_count": 5,
   "metadata": {
    "collapsed": true
   },
   "outputs": [],
   "source": [
    "#定义按照某个特征进行划分的函数splitDataSet\n",
    "#输入三个变量（待划分的数据集，特征，分类值）\n",
    "def splitDataSet(dataSet,axis,value):\n",
    "    retDataSet=[]\n",
    "    for featVec in dataSet:\n",
    "        if featVec[axis]==value : \n",
    "            reduceFeatVec=featVec[:axis]\n",
    "            reduceFeatVec.extend(featVec[axis+1:])\n",
    "            retDataSet.append(reduceFeatVec)\n",
    "    return retDataSet #返回不含划分特征的子集\n",
    "\n",
    "#定义按照最大信息增益划分数据的函数\n",
    "def chooseBestFeatureToSplit(dataSet):\n",
    "    numFeature=len(dataSet[0])-1\n",
    "    baseEntropy=calcShannonEnt(dataSet)#香农熵\n",
    "    bestInforGain=0\n",
    "    bestFeature=-1\n",
    "    for i in range(numFeature):\n",
    "        featList=[number[i] for number in dataSet] #得到某个特征下所有值（某列）\n",
    "        uniqualVals=set(featList) #set无重复的属性特征值\n",
    "        newEntropy=0\n",
    "        for value in uniqualVals:\n",
    "            subDataSet=splitDataSet(dataSet,i,value)\n",
    "            prob=len(subDataSet)/float(len(dataSet)) #即p(t)\n",
    "            newEntropy+=prob*calcShannonEnt(subDataSet)#对各子集香农熵求和\n",
    "        infoGain=baseEntropy-newEntropy #计算信息增益\n",
    "        #最大信息增益\n",
    "        if (infoGain>bestInforGain):\n",
    "            bestInforGain=infoGain\n",
    "            bestFeature=i\n",
    "    return bestFeature #返回特征值"
   ]
  },
  {
   "cell_type": "code",
   "execution_count": 6,
   "metadata": {},
   "outputs": [
    {
     "data": {
      "text/plain": [
       "[[1, 'no'], [1, 'no']]"
      ]
     },
     "execution_count": 6,
     "metadata": {},
     "output_type": "execute_result"
    }
   ],
   "source": [
    "myDat,labels=createDataSet()\n",
    "splitDataSet(myDat,0,0)"
   ]
  },
  {
   "cell_type": "code",
   "execution_count": 7,
   "metadata": {},
   "outputs": [
    {
     "data": {
      "text/plain": [
       "[[1, 'yes'], [1, 'yes'], [0, 'no']]"
      ]
     },
     "execution_count": 7,
     "metadata": {},
     "output_type": "execute_result"
    }
   ],
   "source": [
    "splitDataSet(myDat,0,1)"
   ]
  },
  {
   "cell_type": "code",
   "execution_count": 8,
   "metadata": {},
   "outputs": [
    {
     "data": {
      "text/plain": [
       "0"
      ]
     },
     "execution_count": 8,
     "metadata": {},
     "output_type": "execute_result"
    }
   ],
   "source": [
    "chooseBestFeatureToSplit(myDat)"
   ]
  },
  {
   "cell_type": "code",
   "execution_count": 9,
   "metadata": {
    "collapsed": true
   },
   "outputs": [],
   "source": [
    "#投票表决代码\n",
    "def majorityCnt(classList):\n",
    "    classCount={}\n",
    "    for vote in classList:\n",
    "        if vote not in classCount.keys():classCount[vote]=0\n",
    "        classCount[vote]+=1\n",
    "    sortedClassCount=sorted(classCount.items,key=operator.itemgetter(1),reversed=True)\n",
    "    return sortedClassCount[0][0]\n",
    "\n",
    "def createTree(dataSet,labels):\n",
    "    classList=[example[-1] for example in dataSet]\n",
    "    #类别相同，停止划分\n",
    "    if classList.count(classList[-1])==len(classList):\n",
    "        return classList[-1]\n",
    "    #长度为1，返回出现次数最多的类别\n",
    "    if len(classList[0])==1:\n",
    "        return majorityCnt(classList)\n",
    "    #按照信息增益最高选取分类特征属性\n",
    "    bestFeat=chooseBestFeatureToSplit(dataSet)#返回分类的特征序号\n",
    "    bestFeatLable=labels[bestFeat] #该特征的label\n",
    "    myTree={bestFeatLable:{}} #构建树的字典\n",
    "    del(labels[bestFeat]) #从labels的list中删除该label\n",
    "    featValues=[example[bestFeat] for example in dataSet]\n",
    "    uniqueVals=set(featValues)\n",
    "    for value in uniqueVals:\n",
    "        subLables=labels[:] #子集合\n",
    "        #构建数据的子集合，并进行递归\n",
    "        myTree[bestFeatLable][value]=createTree(splitDataSet(dataSet,bestFeat,value),subLables)\n",
    "    return myTree"
   ]
  },
  {
   "cell_type": "code",
   "execution_count": 10,
   "metadata": {
    "collapsed": true
   },
   "outputs": [],
   "source": [
    "myTree=createTree(myDat,labels)"
   ]
  },
  {
   "cell_type": "code",
   "execution_count": 11,
   "metadata": {},
   "outputs": [
    {
     "data": {
      "text/plain": [
       "{'no surfacing': {0: 'no', 1: {'flippers': {0: 'no', 1: 'yes'}}}}"
      ]
     },
     "execution_count": 11,
     "metadata": {},
     "output_type": "execute_result"
    }
   ],
   "source": [
    "myTree"
   ]
  },
  {
   "cell_type": "code",
   "execution_count": 12,
   "metadata": {
    "collapsed": true
   },
   "outputs": [],
   "source": [
    "#输入三个变量（决策树，属性特征标签，测试的数据）\n",
    "def classify(inputTree,featLables,testVec):\n",
    "    firstStr=list(inputTree.keys())[0] #获取树的第一个特征属性\n",
    "    secondDict=inputTree[firstStr] #树的分支，子集合Dict\n",
    "    featIndex=featLables.index(firstStr) #获取决策树第一层在featLables中的位置\n",
    "    for key in secondDict.keys():\n",
    "        if testVec[featIndex]==key:\n",
    "            if type(secondDict[key]).__name__=='dict':\n",
    "                classLabel=classify(secondDict[key],featLables,testVec)\n",
    "            else:classLabel=secondDict[key]\n",
    "    return classLabel"
   ]
  },
  {
   "cell_type": "code",
   "execution_count": 13,
   "metadata": {
    "collapsed": true
   },
   "outputs": [],
   "source": [
    "##存储决策树\n",
    "def storeTree(inputTree,filename):\n",
    "    import pickle\n",
    "    fw=open(filename,'wb') #pickle默认方式是二进制，需要制定'wb'\n",
    "    pickle.dump(inputTree,fw)\n",
    "    fw.close()"
   ]
  },
  {
   "cell_type": "code",
   "execution_count": 14,
   "metadata": {
    "collapsed": true
   },
   "outputs": [],
   "source": [
    "#读取决策树\n",
    "def grabTree(filename):\n",
    "    import pickle\n",
    "    fr=open(filename,'rb')#需要制定'rb'，以byte形式读取\n",
    "    return pickle.load(fr)"
   ]
  },
  {
   "cell_type": "code",
   "execution_count": 15,
   "metadata": {},
   "outputs": [
    {
     "data": {
      "text/plain": [
       "{'no surfacing': {0: 'no', 1: {'flippers': {0: 'no', 1: 'yes'}}}}"
      ]
     },
     "execution_count": 15,
     "metadata": {},
     "output_type": "execute_result"
    }
   ],
   "source": [
    "myTree"
   ]
  },
  {
   "cell_type": "code",
   "execution_count": 16,
   "metadata": {
    "collapsed": true
   },
   "outputs": [],
   "source": [
    "storeTree(myTree,'classifierStorage.txt')"
   ]
  },
  {
   "cell_type": "code",
   "execution_count": 17,
   "metadata": {},
   "outputs": [
    {
     "data": {
      "text/plain": [
       "{'no surfacing': {0: 'no', 1: {'flippers': {0: 'no', 1: 'yes'}}}}"
      ]
     },
     "execution_count": 17,
     "metadata": {},
     "output_type": "execute_result"
    }
   ],
   "source": [
    "grabTree('classifierStorage.txt')"
   ]
  },
  {
   "cell_type": "code",
   "execution_count": 18,
   "metadata": {
    "collapsed": true
   },
   "outputs": [],
   "source": [
    "##绘制决策树图\n",
    "import matplotlib.pyplot as plt\n",
    "\n",
    "from pylab import *  \n",
    "mpl.rcParams['font.sans-serif'] = ['SimHei'] #否则中文无法正常显示\n",
    "\n",
    "decisionNode=dict(boxstyle='sawtooth',fc='0.8') #决策点样式\n",
    "leafNode=dict(boxstyle='round4',fc='0.8')#叶节点样式\n",
    "arrow_args=dict(arrowstyle='<-') #箭头样式\n",
    "\n",
    "def plotNode(nodeTxt,centerPt,parentPt,nodeType):\n",
    "    createPlot.ax1.annotate(nodeTxt,xy=parentPt,xycoords='axes fraction',\n",
    "                            xytext=centerPt,textcoords='axes fraction',\n",
    "                            va='center',ha='center',bbox=nodeType,arrowprops=arrow_args)\n",
    "\n",
    "def createPlot():\n",
    "    fig=plt.figure(1,facecolor='white')\n",
    "    fig.clf()\n",
    "    createPlot.ax1=plt.subplot(111,frameon=False)\n",
    "    plotNode('决策节点',(0.5,0.1),(0.1,0.5),decisionNode)\n",
    "    plotNode('叶节点',(0.8,0.1),(0.3,0.8),leafNode)\n",
    "    plt.show()\n",
    "\n",
    "#测试\n",
    "#获取叶节点数量（广度）\n",
    "def getNumLeafs(myTree):\n",
    "    numLeafs=0\n",
    "    firstStr=list(myTree.keys())[0]#'dict_keys' object does not support indexing\n",
    "    secondDict=myTree[firstStr]\n",
    "    for key in secondDict.keys():\n",
    "        if type(secondDict[key]).__name__=='dict':\n",
    "            numLeafs+=getNumLeafs(secondDict[key])\n",
    "        else:numLeafs+=1\n",
    "    return numLeafs\n",
    "\n",
    "#获取树的深度的函数（深度）\n",
    "def getTreeDepth(myTree):\n",
    "    maxDepth=0\n",
    "    firstStr=list(myTree.keys())[0]\n",
    "    secondDict=myTree[firstStr]\n",
    "    for key in secondDict.keys():\n",
    "        if type(secondDict[key]).__name__=='dict':\n",
    "            thisDepth=1+getTreeDepth(secondDict[key])\n",
    "        else: thisDepth=1\n",
    "        if thisDepth > maxDepth:\n",
    "            maxDepth=thisDepth\n",
    "    return maxDepth\n",
    "#定义一个预先创建树的函数\n",
    "def retrieveTree(i):\n",
    "    listOfTrees=[{'no surfacing': {0: 'no', 1: {'flippers': {0: 'no', 1: 'yes'}}}},\n",
    "                 {'no surfacing': {0: 'no', 1: {'flippers': {0: {'head':{0:'no', 1: 'yes'}},1:'no'}}}}\n",
    "                 ]\n",
    "    return listOfTrees[i]\n",
    "\n",
    "#定义在父子节点之间填充文本信息的函数\n",
    "def plotMidText(cntrPt,parentPt,txtString):\n",
    "    xMid=(parentPt[0]-cntrPt[0])/2+cntrPt[0]\n",
    "    yMid=(parentPt[1]-cntrPt[1])/2+cntrPt[1]\n",
    "    createPlot.ax1.text(xMid,yMid,txtString)\n",
    "\n",
    "#定义树绘制的函数    \n",
    "def plotTree(myTree,parentPt,nodeTxt):\n",
    "    numLeafs=getNumLeafs(myTree)\n",
    "    depth=getTreeDepth(myTree)\n",
    "    firstStr=list(myTree.keys())[0]\n",
    "    cntrPt=(plotTree.xOff+(1.0+float(numLeafs))/2/plotTree.totalW,plotTree.yOff)\n",
    "    plotMidText(cntrPt,parentPt,nodeTxt)\n",
    "    plotNode(firstStr,cntrPt,parentPt,decisionNode)\n",
    "    secondDict=myTree[firstStr]\n",
    "    plotTree.yOff=plotTree.yOff -1/plotTree.totalD\n",
    "    for key in secondDict.keys():\n",
    "        if type(secondDict[key]).__name__=='dict':\n",
    "            plotTree(secondDict[key],cntrPt,str(key))\n",
    "        else:\n",
    "            plotTree.xOff=plotTree.xOff+1.0/plotTree.totalW\n",
    "            plotNode(secondDict[key],(plotTree.xOff,plotTree.yOff),cntrPt,leafNode)\n",
    "            plotMidText((plotTree.xOff,plotTree.yOff),cntrPt,str(key))\n",
    "    plotTree.yOff=plotTree.yOff+1/plotTree.totalD\n",
    "\n",
    " #定义主函数，来调用其它函数   \n",
    "def createPlot(inTree):\n",
    "    fig=plt.figure(1,facecolor='white')\n",
    "    fig.clf()\n",
    "    axprops=dict(xticks=[],yticks=[])\n",
    "    createPlot.ax1=plt.subplot(111,frameon=False,**axprops)\n",
    "    plotTree.totalW=float(getNumLeafs(inTree))\n",
    "    plotTree.totalD=float(getTreeDepth(inTree))\n",
    "    plotTree.xOff=-0.5/plotTree.totalW;plotTree.yOff=1.0;\n",
    "    plotTree(inTree,(0.5,1.0),'')\n",
    "    plt.show()"
   ]
  },
  {
   "cell_type": "code",
   "execution_count": 19,
   "metadata": {
    "collapsed": true
   },
   "outputs": [],
   "source": [
    "myTree = retrieveTree(0)"
   ]
  },
  {
   "cell_type": "code",
   "execution_count": 20,
   "metadata": {},
   "outputs": [
    {
     "data": {
      "image/png": "[encoded data removed]",
      "text/plain": [
       "<matplotlib.figure.Figure at 0x1d59d098860>"
      ]
     },
     "metadata": {},
     "output_type": "display_data"
    }
   ],
   "source": [
    "createPlot(myTree)"
   ]
  },
  {
   "cell_type": "code",
   "execution_count": 21,
   "metadata": {},
   "outputs": [],
   "source": [
    "##测试实例\n",
    "fr=open('lenses.txt')"
   ]
  },
  {
   "cell_type": "code",
   "execution_count": 22,
   "metadata": {
    "collapsed": true
   },
   "outputs": [],
   "source": [
    "lenses=[inst.strip().split() for inst in fr.readlines()]"
   ]
  },
  {
   "cell_type": "code",
   "execution_count": 23,
   "metadata": {
    "collapsed": true
   },
   "outputs": [],
   "source": [
    "lensesLabels=['age','prescript','astigmatic','tearRate']"
   ]
  },
  {
   "cell_type": "code",
   "execution_count": 24,
   "metadata": {
    "scrolled": true
   },
   "outputs": [
    {
     "data": {
      "text/plain": [
       "[['young', 'myope', 'no', 'reduced', 'nolenses'],\n",
       " ['young', 'myope', 'no', 'normal', 'soft'],\n",
       " ['young', 'myope', 'yes', 'reduced', 'nolenses'],\n",
       " ['young', 'myope', 'yes', 'normal', 'hard'],\n",
       " ['young', 'hyper', 'no', 'reduced', 'nolenses'],\n",
       " ['young', 'hyper', 'no', 'normal', 'soft'],\n",
       " ['young', 'hyper', 'yes', 'reduced', 'nolenses'],\n",
       " ['young', 'hyper', 'yes', 'normal', 'hard'],\n",
       " ['pre', 'myope', 'no', 'reduced', 'nolenses'],\n",
       " ['pre', 'myope', 'no', 'normal', 'soft'],\n",
       " ['pre', 'myope', 'yes', 'reduced', 'nolenses'],\n",
       " ['pre', 'myope', 'yes', 'normal', 'hard'],\n",
       " ['pre', 'hyper', 'no', 'reduced', 'nolenses'],\n",
       " ['pre', 'hyper', 'no', 'normal', 'soft'],\n",
       " ['pre', 'hyper', 'yes', 'reduced', 'nolenses'],\n",
       " ['pre', 'hyper', 'yes', 'normal', 'nolenses'],\n",
       " ['presbyopic', 'myope', 'no', 'reduced', 'nolenses'],\n",
       " ['presbyopic', 'myope', 'no', 'normal', 'nolenses'],\n",
       " ['presbyopic', 'myope', 'yes', 'reduced', 'nolenses'],\n",
       " ['presbyopic', 'myope', 'yes', 'normal', 'hard'],\n",
       " ['presbyopic', 'hyper', 'no', 'reduced', 'nolenses'],\n",
       " ['presbyopic', 'hyper', 'no', 'normal', 'soft'],\n",
       " ['presbyopic', 'hyper', 'yes', 'reduced', 'nolenses'],\n",
       " ['presbyopic', 'hyper', 'yes', 'normal', 'nolenses']]"
      ]
     },
     "execution_count": 24,
     "metadata": {},
     "output_type": "execute_result"
    }
   ],
   "source": [
    "lenses"
   ]
  },
  {
   "cell_type": "code",
   "execution_count": 29,
   "metadata": {},
   "outputs": [],
   "source": [
    "lensesTree=createTree(lenses,lensesLabels)"
   ]
  },
  {
   "cell_type": "code",
   "execution_count": 30,
   "metadata": {},
   "outputs": [
    {
     "data": {
      "text/plain": [
       "{'tearRate': {'normal': {'astigmatic': {'no': {'age': {'pre': 'soft',\n",
       "      'presbyopic': {'prescript': {'hyper': 'soft', 'myope': 'nolenses'}},\n",
       "      'young': 'soft'}},\n",
       "    'yes': {'prescript': {'hyper': {'age': {'pre': 'nolenses',\n",
       "        'presbyopic': 'nolenses',\n",
       "        'young': 'hard'}},\n",
       "      'myope': 'hard'}}}},\n",
       "  'reduced': 'nolenses'}}"
      ]
     },
     "execution_count": 30,
     "metadata": {},
     "output_type": "execute_result"
    }
   ],
   "source": [
    "lensesTree"
   ]
  },
  {
   "cell_type": "code",
   "execution_count": 31,
   "metadata": {},
   "outputs": [
    {
     "data": {
      "image/png": "[encoded data removed]",
      "text/plain": [
       "<matplotlib.figure.Figure at 0x1d59f6e50b8>"
      ]
     },
     "metadata": {},
     "output_type": "display_data"
    }
   ],
   "source": [
    "createPlot(lensesTree)"
   ]
  },
  {
   "cell_type": "code",
   "execution_count": null,
   "metadata": {
    "collapsed": true
   },
   "outputs": [],
   "source": []
  }
 ],
 "metadata": {
  "kernelspec": {
   "display_name": "Python 3",
   "language": "python",
   "name": "python3"
  },
  "language_info": {
   "codemirror_mode": {
    "name": "ipython",
    "version": 3
   },
   "file_extension": ".py",
   "mimetype": "text/x-python",
   "name": "python",
   "nbconvert_exporter": "python",
   "pygments_lexer": "ipython3",
   "version": "3.6.3"
  }
 },
 "nbformat": 4,
 "nbformat_minor": 2
}
